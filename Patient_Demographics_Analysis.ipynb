{
  "nbformat": 4,
  "nbformat_minor": 0,
  "metadata": {
    "colab": {
      "provenance": [],
      "mount_file_id": "1hBf5C6vuDnT7imAMhKJly548Yor7076O",
      "authorship_tag": "ABX9TyNX+hlBntUxOrj5qWTMw/mv",
      "include_colab_link": true
    },
    "kernelspec": {
      "name": "python3",
      "display_name": "Python 3"
    },
    "language_info": {
      "name": "python"
    }
  },
  "cells": [
    {
      "cell_type": "markdown",
      "metadata": {
        "id": "view-in-github",
        "colab_type": "text"
      },
      "source": [
        "<a href=\"https://colab.research.google.com/github/RimaPoddar/Patient-Demographics-Analysis/blob/main/Patient_Demographics_Analysis.ipynb\" target=\"_parent\"><img src=\"https://colab.research.google.com/assets/colab-badge.svg\" alt=\"Open In Colab\"/></a>"
      ]
    },
    {
      "cell_type": "markdown",
      "source": [
        "#**Step 1: Data Loading**\n",
        "\n",
        "This step loads the data from the Excel file into a DataFrame."
      ],
      "metadata": {
        "id": "vZ7eCyMUMghf"
      }
    },
    {
      "cell_type": "code",
      "execution_count": 2,
      "metadata": {
        "colab": {
          "base_uri": "https://localhost:8080/"
        },
        "collapsed": true,
        "id": "SQTPkUCUKadR",
        "outputId": "145eff47-1c0c-4d0e-a3fa-d14d0d577b89"
      },
      "outputs": [
        {
          "output_type": "stream",
          "name": "stdout",
          "text": [
            "Loaded Data:\n",
            "        Id           Name   UHID         Dob   Age  Gender  \\\n",
            "0  4628450  Poonam Dhakad  24366  1994-08-15  30.0  female   \n",
            "1  4628464   Amit Chandra  24367         NaN  42.0    male   \n",
            "2  4628468          Virat  24368  2023-10-31   1.0    male   \n",
            "3  4628504         Manish  24369         NaN  24.0    male   \n",
            "4  4628547   Elina Sharma  24370  2014-12-05   9.0  female   \n",
            "\n",
            "                                  Address  Relative   Phone no.  Nationality  \\\n",
            "0                 D-2/1102, Spring Medows       NaN  7011047195          NaN   \n",
            "1  D-1216 SAya Jivan Gaur City  Gr. Noida       NaN  7007370145          NaN   \n",
            "2            Village-Rajhohan Dist-Amroha       NaN  9690117598          NaN   \n",
            "3                               Aimanabad       NaN  9599848634          NaN   \n",
            "4                 G-2004, Trident Embassy       NaN  9910452787          NaN   \n",
            "\n",
            "   Religion  Age Days  Age Months first_name last_name  \\\n",
            "0       NaN       7.0         3.0     Poonam    Dhakad   \n",
            "1       NaN       NaN         NaN       Amit   Chandra   \n",
            "2       NaN      22.0         0.0      Virat       NaN   \n",
            "3       NaN       NaN         NaN     Manish       NaN   \n",
            "4       NaN      17.0        11.0      Elina    Sharma   \n",
            "\n",
            "                    Email  Parent  \n",
            "0  poonamdhakad@gmail.com     NaN  \n",
            "1   amitchandra@gmail.com     NaN  \n",
            "2         virat@gmail.com     NaN  \n",
            "3        manish@gmail.com     NaN  \n",
            "4   elinasharma@gmail.com     NaN  \n"
          ]
        }
      ],
      "source": [
        "import pandas as pd\n",
        "\n",
        "# Load the data\n",
        "file_path = 'Patient_report.xlsx'  # Replace with the correct file path\n",
        "data = pd.read_excel(file_path)\n",
        "\n",
        "# Display first few rows to understand the structure\n",
        "print(\"Loaded Data:\")\n",
        "print(data.head())\n"
      ]
    },
    {
      "cell_type": "markdown",
      "source": [
        "#**Step 2: Data Cleaning**\n",
        "\n",
        "Remove irrelevant columns, handle missing values, and standardize data.\n"
      ],
      "metadata": {
        "id": "JXaYkzmYMxNu"
      }
    },
    {
      "cell_type": "code",
      "source": [
        "# Drop irrelevant columns\n",
        "columns_to_drop = ['Age Days', 'Age Months', 'Religion', 'Nationality',\n",
        "                   'Relative', 'Parent', 'first_name', 'last_name']\n",
        "cleaned_data = data.drop(columns=columns_to_drop)\n",
        "\n",
        "# Handle missing values in 'Age' by calculating it from 'Dob'\n",
        "cleaned_data['Dob'] = pd.to_datetime(cleaned_data['Dob'], errors='coerce')\n",
        "current_year = pd.Timestamp.now().year\n",
        "cleaned_data['Age'] = cleaned_data['Age'].fillna(\n",
        "    current_year - cleaned_data['Dob'].dt.year\n",
        ")\n",
        "\n",
        "# Drop rows where 'Age' or 'Gender' is missing\n",
        "cleaned_data = cleaned_data.dropna(subset=['Age', 'Gender'])\n",
        "\n",
        "# Standardize 'Gender' values\n",
        "cleaned_data['Gender'] = cleaned_data['Gender'].str.lower()\n",
        "\n",
        "print(\"Cleaned Data:\")\n",
        "print(cleaned_data.head())\n",
        "\n",
        "# Save the cleaned data to Excel\n",
        "cleaned_file_path = 'Cleaned_Patient_Report.xlsx'\n",
        "cleaned_data.to_excel(cleaned_file_path, index=False)\n",
        "\n",
        "print(f\"\\nCleaned data saved to {cleaned_file_path}\")\n"
      ],
      "metadata": {
        "colab": {
          "base_uri": "https://localhost:8080/"
        },
        "id": "ohEAU7swM-i4",
        "outputId": "b41b0dd0-497d-485b-ea70-3ee8aa8ea7bb"
      },
      "execution_count": 9,
      "outputs": [
        {
          "output_type": "stream",
          "name": "stdout",
          "text": [
            "Cleaned Data:\n",
            "        Id           Name   UHID        Dob   Age  Gender  \\\n",
            "0  4628450  Poonam Dhakad  24366 1994-08-15  30.0  female   \n",
            "1  4628464   Amit Chandra  24367        NaT  42.0    male   \n",
            "2  4628468          Virat  24368 2023-10-31   1.0    male   \n",
            "3  4628504         Manish  24369        NaT  24.0    male   \n",
            "4  4628547   Elina Sharma  24370 2014-12-05   9.0  female   \n",
            "\n",
            "                                  Address   Phone no.                   Email  \n",
            "0                 D-2/1102, Spring Medows  7011047195  poonamdhakad@gmail.com  \n",
            "1  D-1216 SAya Jivan Gaur City  Gr. Noida  7007370145   amitchandra@gmail.com  \n",
            "2            Village-Rajhohan Dist-Amroha  9690117598         virat@gmail.com  \n",
            "3                               Aimanabad  9599848634        manish@gmail.com  \n",
            "4                 G-2004, Trident Embassy  9910452787   elinasharma@gmail.com  \n",
            "\n",
            "Cleaned data saved to Cleaned_Patient_Report.xlsx\n"
          ]
        }
      ]
    },
    {
      "cell_type": "markdown",
      "source": [
        "#**Step 3: Gender Distribution**\n",
        "\n",
        "Count the number of male and female patients."
      ],
      "metadata": {
        "id": "U-OBY-94SL7l"
      }
    },
    {
      "cell_type": "code",
      "source": [
        "# Gender Distribution\n",
        "gender_distribution = cleaned_data['Gender'].value_counts()\n",
        "\n",
        "print(\"Gender Distribution:\")\n",
        "print(gender_distribution)\n"
      ],
      "metadata": {
        "colab": {
          "base_uri": "https://localhost:8080/"
        },
        "id": "WJq-JFyISR6n",
        "outputId": "5ead531a-c9d5-468b-caf5-72d49c0c7a3a"
      },
      "execution_count": null,
      "outputs": [
        {
          "output_type": "stream",
          "name": "stdout",
          "text": [
            "Gender Distribution:\n",
            "Gender\n",
            "male      1236\n",
            "female    1201\n",
            "Name: count, dtype: int64\n"
          ]
        }
      ]
    },
    {
      "cell_type": "markdown",
      "source": [
        "#**Step 4: Age Summary**\n",
        "\n",
        "Calculate basic statistics for the Age column."
      ],
      "metadata": {
        "id": "7D6srH5dSeWt"
      }
    },
    {
      "cell_type": "code",
      "source": [
        "# Age Summary\n",
        "age_summary = cleaned_data['Age'].describe()\n",
        "\n",
        "print(\"Age Summary:\")\n",
        "print(age_summary)\n"
      ],
      "metadata": {
        "colab": {
          "base_uri": "https://localhost:8080/"
        },
        "id": "2PBNj7aDSlPE",
        "outputId": "9724d044-3e62-4307-c6d6-2641be9e1038"
      },
      "execution_count": null,
      "outputs": [
        {
          "output_type": "stream",
          "name": "stdout",
          "text": [
            "Age Summary:\n",
            "count    2437.000000\n",
            "mean       29.923677\n",
            "std        20.455264\n",
            "min         0.000000\n",
            "25%        11.000000\n",
            "50%        31.000000\n",
            "75%        41.000000\n",
            "max        88.000000\n",
            "Name: Age, dtype: float64\n"
          ]
        }
      ]
    },
    {
      "cell_type": "markdown",
      "source": [
        "#**Step 5: Age Group Creation**\n",
        "\n",
        "Group patients into categories based on their age."
      ],
      "metadata": {
        "id": "4AP1SIzCTvOz"
      }
    },
    {
      "cell_type": "code",
      "source": [
        "# Define age bins and labels\n",
        "bins = [0, 12, 19, 35, 60, 120]\n",
        "labels = ['Child', 'Teen', 'Young Adult', 'Adult', 'Senior']\n",
        "\n",
        "# Create Age Groups\n",
        "cleaned_data['Age Group'] = pd.cut(cleaned_data['Age'], bins=bins, labels=labels, right=False)\n",
        "\n",
        "# Age Group Distribution\n",
        "age_group_distribution = cleaned_data['Age Group'].value_counts()\n",
        "\n",
        "print(\"Age Group Distribution:\")\n",
        "print(age_group_distribution)\n"
      ],
      "metadata": {
        "colab": {
          "base_uri": "https://localhost:8080/"
        },
        "id": "jEfsaPyRT3cN",
        "outputId": "05901850-1f5e-4e99-c45e-e500f5b3399c"
      },
      "execution_count": null,
      "outputs": [
        {
          "output_type": "stream",
          "name": "stdout",
          "text": [
            "Age Group Distribution:\n",
            "Age Group\n",
            "Adult          713\n",
            "Young Adult    710\n",
            "Child          625\n",
            "Senior         267\n",
            "Teen           122\n",
            "Name: count, dtype: int64\n"
          ]
        }
      ]
    },
    {
      "cell_type": "markdown",
      "source": [
        "#**Step 6: Gender Distribution Visualization**\n",
        "\n",
        "Visualize the gender distribution using a pie chart."
      ],
      "metadata": {
        "id": "VE96I1UaUhJa"
      }
    },
    {
      "cell_type": "code",
      "source": [
        "import matplotlib.pyplot as plt\n",
        "\n",
        "# Pie chart for Gender Distribution\n",
        "plt.figure(figsize=(8, 6))\n",
        "gender_distribution.plot.pie(autopct='%1.1f%%', colors=['lightblue', 'pink'], startangle=90)\n",
        "plt.title(\"Gender Distribution\")\n",
        "plt.ylabel(\"\")  # Remove default y-label\n",
        "plt.show()\n"
      ],
      "metadata": {
        "colab": {
          "base_uri": "https://localhost:8080/",
          "height": 521
        },
        "id": "PFYDrPt1U4mQ",
        "outputId": "9743963b-d08f-41c3-e1e2-3da95a4f2b51"
      },
      "execution_count": null,
      "outputs": [
        {
          "output_type": "display_data",
          "data": {
            "text/plain": [
              "<Figure size 800x600 with 1 Axes>"
            ],
            "image/png": "[encoded data removed]"
          },
          "metadata": {}
        }
      ]
    },
    {
      "cell_type": "markdown",
      "source": [
        "#**Step 7: Age Group Distribution Visualization**\n",
        "\n",
        "Create a bar chart for the age group distribution."
      ],
      "metadata": {
        "id": "10FKUnvybrUX"
      }
    },
    {
      "cell_type": "code",
      "source": [
        "import seaborn as sns\n",
        "\n",
        "# Bar chart for Age Group Distribution\n",
        "plt.figure(figsize=(8, 6))\n",
        "sns.barplot(x=age_group_distribution.index, y=age_group_distribution.values, palette=\"viridis\")\n",
        "plt.title(\"Age Group Distribution\")\n",
        "plt.xlabel(\"Age Group\")\n",
        "plt.ylabel(\"Number of Patients\")\n",
        "plt.show()\n"
      ],
      "metadata": {
        "colab": {
          "base_uri": "https://localhost:8080/",
          "height": 655
        },
        "id": "XUsNtP5Zbq26",
        "outputId": "087442a9-c903-4507-a201-03d9ea70acad"
      },
      "execution_count": null,
      "outputs": [
        {
          "output_type": "stream",
          "name": "stderr",
          "text": [
            "<ipython-input-7-697d523101de>:5: FutureWarning: \n",
            "\n",
            "Passing `palette` without assigning `hue` is deprecated and will be removed in v0.14.0. Assign the `x` variable to `hue` and set `legend=False` for the same effect.\n",
            "\n",
            "  sns.barplot(x=age_group_distribution.index, y=age_group_distribution.values, palette=\"viridis\")\n"
          ]
        },
        {
          "output_type": "display_data",
          "data": {
            "text/plain": [
              "<Figure size 800x600 with 1 Axes>"
            ],
            "image/png": "[encoded data removed]"
          },
          "metadata": {}
        }
      ]
    },
    {
      "cell_type": "markdown",
      "source": [
        "#**Step 8: Age Distribution Visualization**\n",
        "\n",
        "Plot a histogram of the age distribution."
      ],
      "metadata": {
        "id": "1JScI9fuc0tv"
      }
    },
    {
      "cell_type": "code",
      "source": [
        "# Histogram for Age Distribution\n",
        "plt.figure(figsize=(8, 6))\n",
        "sns.histplot(cleaned_data['Age'], bins=20, kde=True, color='skyblue')\n",
        "plt.title(\"Age Distribution\")\n",
        "plt.xlabel(\"Age\")\n",
        "plt.ylabel(\"Frequency\")\n",
        "plt.show()\n"
      ],
      "metadata": {
        "colab": {
          "base_uri": "https://localhost:8080/",
          "height": 564
        },
        "id": "-f5Qg2YPc5Hy",
        "outputId": "4aea1ab6-08c4-422d-a260-6654ed588075"
      },
      "execution_count": null,
      "outputs": [
        {
          "output_type": "display_data",
          "data": {
            "text/plain": [
              "<Figure size 800x600 with 1 Axes>"
            ],
            "image/png": "[encoded data removed]"
          },
          "metadata": {}
        }
      ]
    },
    {
      "cell_type": "markdown",
      "source": [
        "#**Observations:**\n",
        "\n",
        "##**Gender Distribution:**\n",
        "\n",
        "**Observation:**\n",
        "\n",
        " The gender distribution in the dataset is almost balanced, reporting 1,236 males (50.0%) and 1,201 females (50.0%). This implies that there is no substantial gender bias in the population studied in the dataset.\n",
        "\n",
        "**Interpretation:**\n",
        "\n",
        " That the gender is balanced well speaks to demographics, so the dataset can reflect the broader population.\n",
        "\n",
        "##**Age Distribution:**\n",
        "\n",
        "The observation shows that the average age of the patients is 29.92 years, with a minimum age of 0 years most likely to have newborns or babies while the maximum age is 88 years. The median age here is 31 years, which appears only slightly higher than the mean, suggesting a very slight right-skew in the age distribution.\n",
        "\n",
        "**Interpretation:**\n",
        "\n",
        "The majority of patients are young adults, and it provides a good spread among younger age groups and older age groups.\n",
        "\n",
        "Patients belonging to different age groups may be helped with services for such age groups.\n",
        "\n",
        "**Distribution of Age Groups:**  Age Group Distribution\n",
        "\n",
        "**Observation:** Distribution by Age Group\n",
        "\n",
        "**Children (0-12 years):** 625 patients; (25.5%)\n",
        "\n",
        "**Teenagers (13-19 years):** 122 patients; (5.0%)\n",
        "\n",
        "**Young Adults (20-35 years):** 710 patients; (29.0%)\n",
        "\n",
        "**Adults (36-60 years):** 713 patients (28.9%)\n",
        "\n",
        "**Seniors (61+ years):** 267 patients (10.9%)\n",
        "\n",
        "**Explanation:**\n",
        "\n",
        "The largest age groups are Young Adults and Adults, totaling 1,423 patients (58.0%). This may indicate that the population being analyzed is largely in the working-age group. The smaller number of Seniors and Teens might imply that there is an emphasis on healthcare services for younger adults.\n",
        "\n",
        "**Age Summary Statistics:**\n",
        "\n",
        "**Observation:**\n",
        "\n",
        "The mean age of the patients is about 29.92 years, while SD equals 20.46, indicating a variability in the age of the patients. The 25th percentile value is 11 years, and the 75th percentile value is 41 years.\n",
        "\n",
        "**Interpretation:**\n",
        "\n",
        "The presence of a large range of ages from infants to seniors may imply that the data set represents a population that will consist of young and old patients.\n",
        "\n",
        "#**Visual Analysis :**\n",
        "\n",
        "**Observation:**\n",
        "\n",
        "Pie charts and histograms illustrate the following:\n",
        "\n",
        "The pie chart of gender distribution is consistent with the even distribution of male and female patients.\n",
        "\n",
        "Histogram of age distribution illustrates that most patients consist of the age group 20-35, followed by a gradual decreasing trend in the higher age groups\n",
        "Interpretation: These graphical representations of data ensure support and enhance the understandability of numerical results drawn from the data, allowing significant demographic groups to be determined.\n",
        "\n",
        "**Key Takeaways**\n",
        "\n",
        "**Observation:**\n",
        "\n",
        "Populations seem mostly to be young adults aged 20-35 years, which may have significant implications for targeting services, such as job-related healthcare, fitness, mental health, or family planning.\n",
        "\n",
        "**Interpretation:**\n",
        "\n",
        "Health services, marketing campaigns, or policy recommendations would focus more on the Young Adult and Adult category because these form the largest share of the population.\n",
        "\n",
        "**Conclusion**\n",
        "\n",
        "From the above analysis, the demographic profile of this dataset is reflected in a balanced gender ratio as well as the population that mainly consists of young adults. To make informed decisions on resource allocation, service targeting, and program development, it is crucial to comprehend the age distribution and gender balance.\n",
        "\n"
      ],
      "metadata": {
        "id": "GxeZGS8lqUmi"
      }
    }
  ]
}